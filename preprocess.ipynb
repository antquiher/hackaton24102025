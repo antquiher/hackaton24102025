{
 "cells": [
  {
   "cell_type": "code",
   "execution_count": 1,
   "id": "6d94eaf5",
   "metadata": {},
   "outputs": [],
   "source": [
    "import pandas as pd"
   ]
  },
  {
   "cell_type": "markdown",
   "id": "6161788d",
   "metadata": {},
   "source": [
    "## Crear diccionario de FRENOS\n",
    "Añadir a las órdenes de trabajo la información de su clavero"
   ]
  },
  {
   "cell_type": "code",
   "execution_count": 3,
   "id": "16c4e5fe",
   "metadata": {},
   "outputs": [],
   "source": [
    "definiciones = pd.read_excel('data/Definiciones clave Codigo actuacion_V6.xlsx', header=2)\n",
    "work_orders = pd.read_csv('data/data_ots_brake_euskotren.csv')"
   ]
  },
  {
   "cell_type": "code",
   "execution_count": 4,
   "id": "59a11ab3",
   "metadata": {},
   "outputs": [],
   "source": [
    "# Filtrar filas cuya columna 'clavero' empieza por 'FRE' y guardar en dataset diccionario\n",
    "diccionario = definiciones[definiciones['Clavero'].astype(str).str.startswith('FRE', na=False)].copy()\n",
    "diccionario.to_csv('data/diccionario.csv', index=False)"
   ]
  },
  {
   "cell_type": "code",
   "execution_count": 20,
   "id": "c2d65546",
   "metadata": {},
   "outputs": [],
   "source": [
    "# Crear columna 'Código tarea std' concatenando 'clavero' y 'actuacion'\n",
    "clav = work_orders['clavero'].fillna('').astype(str).str.strip()\n",
    "act = work_orders['actuacion'].fillna('').astype(str).str.replace('\"', '', regex=False).str.strip()\n",
    "work_orders['Código tarea std'] = clav + act"
   ]
  },
  {
   "cell_type": "code",
   "execution_count": null,
   "id": "439bc691",
   "metadata": {},
   "outputs": [
    {
     "name": "stdout",
     "output_type": "stream",
     "text": [
      "{'FRE010503', 'FRE0604', 'FRE010113', 'FRE011207', 'FRE011005', 'FRE0702', 'FRE0605', 'FRE0307', 'FRE0803', 'FRE', 'FRE011106', 'FRE010206', 'FRE010108', 'FRE010202', 'FRE0902', 'FRE010203', 'FRE010109', 'FRE0901', 'FRE010502', 'FRE06', 'FRE010802', 'FRE0703', 'FRE0603', 'FRE0309', 'FRE080301', 'FRE0501', 'FRE011204', 'FRE080302', 'FRE010102', 'FRE0306', 'FRE11', 'FRE010808', 'FRE0606', 'FRE010704', 'FRE0705', 'FRE0706', 'FRE0502', 'FRE010111', 'FRE031203', 'FRE010406', 'FRE0304', 'FRE030104', 'FRE010905', 'FRE010510', 'FRE010602', 'FRE0704', 'FRE010710', 'FRE0305', 'FRE010713', 'FRE010402', 'FRE010303', 'FRE010906', 'FRE1104', 'FRE0701', 'FRE031201', 'FRE010902', 'FRE0906', 'FRE010606', 'FRE011205', 'FRE011301', 'FRE010403', 'FRE011002', 'FRE03', 'FRE07', 'FRE010302', 'FRE010712', 'FRE010306', 'FRE0602', 'FRE0503', 'FRE010702', 'FRE010607', 'FRE010804', 'FRE010609', 'FRE05', 'FRE011105', 'FRE011102', 'FRE0601', 'FRE0904', 'FRE010200', 'FRE0903', 'FRE011202', 'FRE0905', 'FRE0113'}\n",
      "2190 1665 182\n"
     ]
    }
   ],
   "source": [
    "# Añadir a work_orders las columnas desde la 3ª columna de diccionario\n",
    "cols_to_merge = list(diccionario.columns[2:4]) \n",
    "\n",
    "# Lookups por clave\n",
    "by_code = diccionario.set_index('Código tarea std')[cols_to_merge]\n",
    "by_clav = diccionario.set_index('Clavero')[cols_to_merge]\n",
    "\n",
    "res = work_orders.copy()\n",
    "\n",
    "# normalizar vacíos en 'actuacion' a NaN\n",
    "res['actuacion'] = res['actuacion'].astype(str).str.strip()\n",
    "res.loc[res['actuacion'].isin(['', '\"\"']), 'actuacion'] = pd.NA\n",
    "res['_clav_clean'] = res['clavero'].fillna('').astype(str).str.strip()\n",
    "\n",
    "mask_act = res['actuacion'].notna()\n",
    "\n",
    "# Inicializar columnas a NaN\n",
    "for c in cols_to_merge:\n",
    "    res[c] = pd.NA\n",
    "\n",
    "# Mapeo por 'Código tarea std' cuando 'actuacion' no está vacía\n",
    "map_code_dicts = {c: by_code[c].to_dict() for c in cols_to_merge}\n",
    "for c, m in map_code_dicts.items():\n",
    "    res.loc[mask_act, c] = res.loc[mask_act, 'Código tarea std'].map(m)\n",
    "\n",
    "# Para filas con 'actuacion' vacía, unir por 'clavero' solo si el clavero es único en work_orders\n",
    "clav_counts = diccionario['Clavero'].value_counts()\n",
    "unique_clavs = set(clav_counts[clav_counts == 1].index)\n",
    "print(unique_clavs)\n",
    "mask_clav = (~mask_act) & res['_clav_clean'].isin(unique_clavs)\n",
    "print(len(res), len(res[mask_act]), len(res[mask_clav]))\n",
    "\n",
    "map_clav_dicts = {c: by_clav[c].to_dict() for c in cols_to_merge}\n",
    "for c, m in map_clav_dicts.items():\n",
    "    res.loc[mask_clav, c] = res.loc[mask_clav, '_clav_clean'].map(m)\n",
    "\n"
   ]
  },
  {
   "cell_type": "code",
   "execution_count": 26,
   "id": "48844934",
   "metadata": {},
   "outputs": [],
   "source": [
    "res = res.drop(columns=['_clav_clean'])\n",
    "res.to_csv('data/work_orders_dict.csv', index=False)"
   ]
  },
  {
   "cell_type": "markdown",
   "id": "efdd7ca4",
   "metadata": {},
   "source": [
    "## Crear dataset de jerarquías\n",
    "Crear un dataset con las jerarquías de los claveros para poder hacer análisis posteriores"
   ]
  },
  {
   "cell_type": "code",
   "execution_count": 6,
   "id": "d861dd49",
   "metadata": {},
   "outputs": [],
   "source": [
    "def nivel1_key(clave):\n",
    "    prefix = ''.join([c for c in clave if not c.isdigit()])\n",
    "    nums = ''.join([c for c in clave if c.isdigit()])\n",
    "    if len(nums) >= 2:\n",
    "        return prefix + nums[:2]\n",
    "    return None\n",
    "\n",
    "def nivel2_key(clave):\n",
    "    prefix = ''.join([c for c in clave if not c.isdigit()])\n",
    "    nums = ''.join([c for c in clave if c.isdigit()])\n",
    "    if len(nums) >= 4:\n",
    "        return prefix + nums[:4]\n",
    "    return None"
   ]
  },
  {
   "cell_type": "code",
   "execution_count": 36,
   "id": "47b788ff",
   "metadata": {},
   "outputs": [],
   "source": [
    "dic= pd.read_csv('data/diccionario.csv')\n",
    "dic['Clavero'] = dic['Clavero'].astype(str).str.strip()"
   ]
  },
  {
   "cell_type": "code",
   "execution_count": 37,
   "id": "30031f21",
   "metadata": {},
   "outputs": [],
   "source": [
    "dic['codigo_numerico'] = dic['Clavero'].str.replace(r'^[A-Z]+', '', regex=True)\n",
    "dic['nivel'] = dic['codigo_numerico'].str.len() // 2\n",
    "dic['nivel1'] = dic['Clavero'].apply(nivel1_key)\n",
    "dic['nivel2'] = dic['Clavero'].apply(nivel2_key)\n",
    "\n",
    "# Evitar duplicados en el merge: usar una única fila por 'Clavero'\n",
    "dic = dic.drop_duplicates(subset='Clavero').reset_index(drop=True)\n",
    "\n",
    "dic = dic.merge(dic[['Clavero', 'Descripción componente']], how='left',\n",
    "                left_on='nivel1', right_on='Clavero', suffixes=('', '_nivel1'))\n",
    "dic = dic.merge(dic[['Clavero', 'Descripción componente']], how='left',\n",
    "                left_on='nivel2', right_on='Clavero', suffixes=('', '_nivel2'))\n",
    "\n",
    "dic = dic.drop(columns=['Clavero_nivel1', 'Clavero_nivel2'])\n",
    "dic = dic.rename(columns={\n",
    "    'Descripción componente_nivel1': 'componente_nivel1',\n",
    "    'Descripción componente_nivel2': 'componente_nivel2',\n",
    "    'Clavero': 'clavero',\n",
    "    'Descripción componente': 'componente'\n",
    "})"
   ]
  },
  {
   "cell_type": "code",
   "execution_count": 38,
   "id": "d450eb42",
   "metadata": {},
   "outputs": [],
   "source": [
    "# Hardocde de Paneles\n",
    "mask_fre01 = dic['nivel'].isin([2, 3]) & (dic['nivel1'] == 'FRE01')\n",
    "dic.loc[mask_fre01, 'componente_nivel1'] = 'Paneles'\n",
    "\n",
    "# Nivel 1 → sin referencias\n",
    "dic.loc[dic['nivel'] == 1, ['nivel1', 'nivel2', 'componente_nivel1', 'componente_nivel2']] = None\n",
    "\n",
    "# Nivel 2 → mantener nivel1, quitar nivel2\n",
    "dic.loc[dic['nivel'] == 2, ['nivel2', 'componente_nivel2']] = None\n",
    "\n",
    "# Si no existe el nivel1 en el diccionario y soy nivel 2 o 3 → marcar \"otros\"\n",
    "mask_nivel1_faltante = dic['nivel'].isin([2, 3]) & dic['componente_nivel1'].isna()\n",
    "dic.loc[mask_nivel1_faltante, 'nivel1'] = None\n",
    "dic.loc[mask_nivel1_faltante, 'componente_nivel1'] = 'Otros'\n",
    "\n",
    "# Si no existe el nivel2 en el diccionario y soy nivel 3 → marcar \"otros\"\n",
    "mask_nivel2_faltante = (dic['nivel'] == 3) & dic['componente_nivel2'].isna()\n",
    "dic.loc[mask_nivel2_faltante, 'nivel2'] = None\n",
    "dic.loc[mask_nivel2_faltante, 'componente_nivel2'] = 'Otros'"
   ]
  },
  {
   "cell_type": "code",
   "execution_count": 39,
   "id": "fb47528b",
   "metadata": {},
   "outputs": [],
   "source": [
    "cols_keep = ['clavero', 'componente', 'nivel', 'nivel1', 'componente_nivel1', 'nivel2', 'componente_nivel2']\n",
    "dic = dic[cols_keep].copy().reset_index(drop=True)\n",
    "dic.to_csv(\"data/jerarquia.csv\", index=False)"
   ]
  }
 ],
 "metadata": {
  "kernelspec": {
   "display_name": "base",
   "language": "python",
   "name": "python3"
  },
  "language_info": {
   "codemirror_mode": {
    "name": "ipython",
    "version": 3
   },
   "file_extension": ".py",
   "mimetype": "text/x-python",
   "name": "python",
   "nbconvert_exporter": "python",
   "pygments_lexer": "ipython3",
   "version": "3.12.7"
  }
 },
 "nbformat": 4,
 "nbformat_minor": 5
}
